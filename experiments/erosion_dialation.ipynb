{
 "cells": [
  {
   "cell_type": "code",
   "execution_count": 1,
   "metadata": {},
   "outputs": [],
   "source": [
    "import numpy as np\n",
    "import cv2\n",
    "from utils import imshow"
   ]
  },
  {
   "cell_type": "code",
   "execution_count": 10,
   "metadata": {},
   "outputs": [],
   "source": [
    "cap = cv2.VideoCapture('../project/output.avi')\n",
    "for i in range(3000):\n",
    "    ret, img = cap.read()\n",
    "    \n",
    "while 1:\n",
    "    ret, img = cap.read()\n",
    "    if not ret:\n",
    "        break\n",
    "    img = cv2.cvtColor(img, cv2.COLOR_BGR2GRAY)\n",
    "\n",
    "    kernel = np.ones((5,5),np.uint8)\n",
    "    erosion = cv2.erode(img,kernel,iterations = 2)\n",
    "    dilation = cv2.dilate(img,kernel, iterations=1)\n",
    "    dil_ero = cv2.dilate(erosion, kernel, iterations=1)\n",
    "    ret,thresh1 = cv2.threshold(dilation,110,255,cv2.THRESH_BINARY)\n",
    "\n",
    "    cv2.imshow('ero', erosion)\n",
    "    cv2.imshow('frame', img)\n",
    "    cv2.imshow('dil', dilation)\n",
    "    cv2.imshow('dil+ero', dil_ero)\n",
    "    cv2.imshow('thresh', thresh1)\n",
    "    if cv2.waitKey(10) & 0xFF == 27:\n",
    "        break\n",
    "cap.release()\n",
    "cv2.destroyAllWindows()\n"
   ]
  },
  {
   "cell_type": "code",
   "execution_count": null,
   "metadata": {},
   "outputs": [],
   "source": []
  }
 ],
 "metadata": {
  "kernelspec": {
   "display_name": "Python 2",
   "language": "python",
   "name": "python2"
  },
  "language_info": {
   "codemirror_mode": {
    "name": "ipython",
    "version": 2
   },
   "file_extension": ".py",
   "mimetype": "text/x-python",
   "name": "python",
   "nbconvert_exporter": "python",
   "pygments_lexer": "ipython2",
   "version": "2.7.12"
  }
 },
 "nbformat": 4,
 "nbformat_minor": 2
}
