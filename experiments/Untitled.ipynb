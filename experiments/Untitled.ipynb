{
 "cells": [
  {
   "cell_type": "code",
   "execution_count": 19,
   "metadata": {},
   "outputs": [],
   "source": [
    "import cv2\n",
    "import numpy as np\n",
    "from utils import imshow"
   ]
  },
  {
   "cell_type": "code",
   "execution_count": 52,
   "metadata": {},
   "outputs": [
    {
     "data": {
      "text/plain": [
       "array([[[ 41,  41,  41],\n",
       "        [ 41,  41,  41],\n",
       "        [ 41,  41,  41],\n",
       "        ...,\n",
       "        [232, 235, 225],\n",
       "        [232, 235, 225],\n",
       "        [232, 235, 225]],\n",
       "\n",
       "       [[ 41,  41,  41],\n",
       "        [ 41,  41,  41],\n",
       "        [ 41,  41,  41],\n",
       "        ...,\n",
       "        [232, 235, 225],\n",
       "        [232, 235, 225],\n",
       "        [232, 235, 225]],\n",
       "\n",
       "       [[ 41,  41,  41],\n",
       "        [ 41,  41,  41],\n",
       "        [ 41,  41,  41],\n",
       "        ...,\n",
       "        [232, 235, 225],\n",
       "        [232, 235, 225],\n",
       "        [232, 235, 225]],\n",
       "\n",
       "       ...,\n",
       "\n",
       "       [[112, 157, 184],\n",
       "        [ 89, 134, 161],\n",
       "        [ 81, 126, 153],\n",
       "        ...,\n",
       "        [ 42,  37,  38],\n",
       "        [ 42,  37,  38],\n",
       "        [ 42,  37,  38]],\n",
       "\n",
       "       [[112, 157, 184],\n",
       "        [ 89, 134, 161],\n",
       "        [ 81, 126, 153],\n",
       "        ...,\n",
       "        [ 42,  37,  38],\n",
       "        [ 42,  37,  38],\n",
       "        [ 42,  37,  38]],\n",
       "\n",
       "       [[112, 157, 184],\n",
       "        [ 89, 134, 161],\n",
       "        [ 81, 126, 153],\n",
       "        ...,\n",
       "        [ 42,  37,  38],\n",
       "        [ 42,  37,  38],\n",
       "        [ 42,  37,  38]]], dtype=uint8)"
      ]
     },
     "execution_count": 52,
     "metadata": {},
     "output_type": "execute_result"
    }
   ],
   "source": [
    "cap = cv2.VideoCapture('../lecture.mp4')\n",
    "\n",
    "for i in range(120): _, _ = cap.read()\n",
    "\n",
    "_, frame = cap.read()\n",
    "gray = cv2.cvtColor(frame, cv2.COLOR_BGR2GRAY)\n",
    "SIZE = 20\n",
    "bl = (293, 420)\n",
    "br = (1163, 395)\n",
    "template_bl = gray[bl[1]-SIZE:bl[1]+SIZE,bl[0]-SIZE:bl[0]+SIZE].copy()\n",
    "template_br = gray[br[1]-SIZE:br[1]+SIZE,br[0]-SIZE:br[0]+SIZE].copy()\n",
    "cv2.circle(frame, bl, 3, (0,0,0), -1)\n",
    "cv2.circle(frame, br, 3, (0,0,0), -1)\n",
    "# imshow('frame', frame)\n",
    "# imshow('template bl', template_bl, gray=True)\n",
    "# imshow('template br', template_br, gray=True)"
   ]
  },
  {
   "cell_type": "code",
   "execution_count": 53,
   "metadata": {},
   "outputs": [],
   "source": [
    "methods = ['cv2.TM_CCOEFF', 'cv2.TM_CCOEFF_NORMED', 'cv2.TM_CCORR',\n",
    "            'cv2.TM_CCORR_NORMED', 'cv2.TM_SQDIFF', 'cv2.TM_SQDIFF_NORMED']\n",
    "\n",
    "while 1:\n",
    "    ret, frame = cap.read()\n",
    "    gray = cv2.cvtColor(frame, cv2.COLOR_BGR2GRAY)\n",
    "    if not ret:\n",
    "        break\n",
    "    \n",
    "    # template matching\n",
    "    i = 5\n",
    "    res = cv2.matchTemplate(gray, template_br, i)\n",
    "    min_val, max_val, min_loc, max_loc = cv2.minMaxLoc(res)\n",
    "    # If the method is TM_SQDIFF or TM_SQDIFF_NORMED, take minimum\n",
    "    if i in [cv2.TM_SQDIFF, cv2.TM_SQDIFF_NORMED]:\n",
    "        top_left = min_loc\n",
    "    else:\n",
    "        top_left = max_loc\n",
    "    bottom_right = (top_left[0] + SIZE, top_left[1] + SIZE)\n",
    "    cv2.rectangle(frame,top_left, bottom_right, 255, 2)\n",
    "    cv2.imshow('res', res)\n",
    "    gray = cv2.cvtColor(frame, cv2.COLOR_BGR2GRAY)\n",
    "    gray = np.float32(gray)\n",
    "    dst = cv2.cornerHarris(gray, 10, 3, 0.04)\n",
    "    new_frame = frame.copy()\n",
    "    new_frame[dst>0.10*dst.max()] = [0,0,255]\n",
    "    \n",
    "    cv2.imshow('frame', new_frame)\n",
    "    cv2.imshow('dst', dst)\n",
    "    k = cv2.waitKey(1) & 0xff\n",
    "    if k == 27:\n",
    "        break\n",
    "        \n",
    "cv2.destroyAllWindows()\n",
    "cap.release()"
   ]
  },
  {
   "cell_type": "code",
   "execution_count": null,
   "metadata": {},
   "outputs": [],
   "source": []
  }
 ],
 "metadata": {
  "kernelspec": {
   "display_name": "Python 2",
   "language": "python",
   "name": "python2"
  },
  "language_info": {
   "codemirror_mode": {
    "name": "ipython",
    "version": 2
   },
   "file_extension": ".py",
   "mimetype": "text/x-python",
   "name": "python",
   "nbconvert_exporter": "python",
   "pygments_lexer": "ipython2",
   "version": "2.7.12"
  }
 },
 "nbformat": 4,
 "nbformat_minor": 2
}
