{
 "cells": [
  {
   "cell_type": "code",
   "execution_count": 1,
   "metadata": {},
   "outputs": [],
   "source": [
    "import numpy as np\n",
    "import cv2"
   ]
  },
  {
   "cell_type": "markdown",
   "metadata": {},
   "source": [
    "Canny edge detection"
   ]
  },
  {
   "cell_type": "code",
   "execution_count": 10,
   "metadata": {},
   "outputs": [],
   "source": [
    "# cap = cv2.VideoCapture('../nocutcorners.mp4')\n",
    "cap = cv2.VideoCapture(0)\n",
    "\n",
    "while(1):\n",
    "    _, frame = cap.read()\n",
    "    if not _:\n",
    "        break\n",
    "    \n",
    "    \n",
    "    # doesn't improve when using gray colored img\n",
    "    gray = cv2.cvtColor(frame, cv2.COLOR_BGR2GRAY)\n",
    "    gray = cv2.equalizeHist(gray)\n",
    "    edges_g = cv2.Canny(gray, 150, 200)\n",
    "    edges_c = cv2.Canny(frame, 100, 200)\n",
    "    cv2.imshow(\"edges_g\", edges_g)\n",
    "    cv2.imshow(\"edges_c\", edges_c)\n",
    "    \n",
    "    k = cv2.waitKey(60) & 0xff\n",
    "    if k == 27:\n",
    "        break\n",
    "\n",
    "cv2.destroyAllWindows()\n",
    "cap.release()"
   ]
  },
  {
   "cell_type": "markdown",
   "metadata": {},
   "source": [
    "Hough lines"
   ]
  },
  {
   "cell_type": "code",
   "execution_count": 17,
   "metadata": {},
   "outputs": [],
   "source": [
    "cap = cv2.VideoCapture('../nocutcorners.mp4')\n",
    "# cap = cv2.VideoCapture(0)\n",
    "\n",
    "while(1):\n",
    "    _, frame = cap.read()\n",
    "    if not _:\n",
    "        break\n",
    "        \n",
    "    img = frame.copy()\n",
    "    # doesn't improve when using gray colored img\n",
    "    gray = cv2.cvtColor(frame, cv2.COLOR_BGR2GRAY)\n",
    "    edges = cv2.Canny(gray, 150, 200, apertureSize = 3)\n",
    "    \n",
    "    minLineLength = 100\n",
    "    maxLineGap = 100\n",
    "    lines = cv2.HoughLinesP(edges,1,np.pi/180,100,minLineLength,maxLineGap)\n",
    "    if lines is not None:\n",
    "        for x1,y1,x2,y2 in lines[0]:\n",
    "            cv2.line(img,(x1,y1),(x2,y2),(0,255,0),2)\n",
    "\n",
    "    cv2.imshow(\"edges\", edges)\n",
    "    cv2.imshow(\"lines\", img)\n",
    "    \n",
    "    k = cv2.waitKey(60) & 0xff\n",
    "    if k == 27:\n",
    "        break\n",
    "\n",
    "cv2.destroyAllWindows()\n",
    "cap.release()"
   ]
  },
  {
   "cell_type": "markdown",
   "metadata": {},
   "source": [
    "Using contours"
   ]
  },
  {
   "cell_type": "code",
   "execution_count": 26,
   "metadata": {},
   "outputs": [],
   "source": [
    "cap = cv2.VideoCapture(\"../nocutcorners.mp4\")\n",
    "\n",
    "while 1:\n",
    "    _, img = cap.read()\n",
    "    if not _:\n",
    "        break\n",
    "    gray = cv2.cvtColor(img, cv2.COLOR_BGR2GRAY)\n",
    "\n",
    "    ret,thresh = cv2.threshold(gray,127,255,1)\n",
    "\n",
    "    f, contours,h = cv2.findContours(thresh,1,2)\n",
    "\n",
    "    for cnt in contours:\n",
    "        approx = cv2.approxPolyDP(cnt,0.01*cv2.arcLength(cnt,True),True)\n",
    "#         print len(approx)\n",
    "        if len(approx)==5:\n",
    "#             print \"pentagon\"\n",
    "            cv2.drawContours(img,[cnt],0,255,-1)\n",
    "#         elif len(approx)==3:\n",
    "#             print \"triangle\"\n",
    "#             cv2.drawContours(img,[cnt],0,(0,255,0),-1)\n",
    "        elif len(approx)==4:\n",
    "#             print \"square\"\n",
    "            cv2.drawContours(img,[cnt],0,(0,0,255),-1)\n",
    "#         elif len(approx) == 9:\n",
    "#             print \"half-circle\"\n",
    "#             cv2.drawContours(img,[cnt],0,(255,255,0),-1)\n",
    "#         elif len(approx) > 15:\n",
    "#             print \"circle\"\n",
    "#             cv2.drawContours(img,[cnt],0,(0,255,255),-1)\n",
    "\n",
    "    cv2.imshow(\"img\",img)\n",
    "    k = cv2.waitKey(60) & 0xff\n",
    "    if k == 27:\n",
    "        break\n",
    "\n",
    "cv2.destroyAllWindows()\n",
    "cap.release()"
   ]
  }
 ],
 "metadata": {
  "kernelspec": {
   "display_name": "Python 2",
   "language": "python",
   "name": "python2"
  },
  "language_info": {
   "codemirror_mode": {
    "name": "ipython",
    "version": 2
   },
   "file_extension": ".py",
   "mimetype": "text/x-python",
   "name": "python",
   "nbconvert_exporter": "python",
   "pygments_lexer": "ipython2",
   "version": "2.7.12"
  }
 },
 "nbformat": 4,
 "nbformat_minor": 2
}
