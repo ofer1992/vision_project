{
 "cells": [
  {
   "cell_type": "code",
   "execution_count": 1,
   "metadata": {},
   "outputs": [],
   "source": [
    "import numpy as np\n",
    "import cv2\n",
    "from utils import imshow"
   ]
  },
  {
   "cell_type": "code",
   "execution_count": 2,
   "metadata": {},
   "outputs": [],
   "source": [
    "# difference feed\n",
    "\n",
    "cap = cv2.VideoCapture(0)\n",
    "last_frame = None\n",
    "while(1):\n",
    "    \n",
    "    # Take each frame\n",
    "    _, frame = cap.read()\n",
    "    if last_frame is not None:\n",
    "        diff = cv2.subtract(frame, last_frame)\n",
    "    else:\n",
    "        diff = frame\n",
    "    cv2.imshow('frame',diff)\n",
    "    last_frame = frame\n",
    "    k = cv2.waitKey(1) & 0xFF\n",
    "    if k == 27:\n",
    "        break\n",
    "\n",
    "cv2.destroyAllWindows()\n"
   ]
  },
  {
   "cell_type": "code",
   "execution_count": null,
   "metadata": {},
   "outputs": [],
   "source": [
    "# discounted sum - motion blur\n",
    "cap = cv2.VideoCapture(0)\n",
    "_, dis_frame = cap.read()\n",
    "gamma = 0.9\n",
    "while(1):\n",
    "    \n",
    "    # Take each frame\n",
    "    _, frame = cap.read()\n",
    "    dis_frame = cv2.add(gamma*dis_frame, (1-gamma) * frame)\n",
    "    cv2.imshow('frame',np.uint8(dis_frame))\n",
    "    k = cv2.waitKey(1) & 0xFF\n",
    "    if k == 27:\n",
    "        break\n",
    "\n",
    "cv2.destroyAllWindows()\n"
   ]
  },
  {
   "cell_type": "code",
   "execution_count": 4,
   "metadata": {},
   "outputs": [],
   "source": [
    "# difference feed\n",
    "\n",
    "cap = cv2.VideoCapture(0)\n",
    "_, first_frame = cap.read()\n",
    "frames = [first_frame]\n",
    "while(1):\n",
    "    \n",
    "    # Take each frame\n",
    "    _, frame = cap.read()\n",
    "    total = np.zeros_like(frame)\n",
    "    for f in frames:\n",
    "        diff = cv2.subtract(frame, f)\n",
    "        total = cv2.add(total, diff)\n",
    "    cv2.imshow('frame',total)\n",
    "    frames.insert(0,frame)\n",
    "    if len(frames) > 10:\n",
    "        frames.pop()\n",
    "    k = cv2.waitKey(1) & 0xFF\n",
    "    if k == 27:\n",
    "        break\n",
    "\n",
    "cv2.destroyAllWindows()\n"
   ]
  },
  {
   "cell_type": "code",
   "execution_count": null,
   "metadata": {},
   "outputs": [],
   "source": []
  }
 ],
 "metadata": {
  "kernelspec": {
   "display_name": "Python 2",
   "language": "python",
   "name": "python2"
  },
  "language_info": {
   "codemirror_mode": {
    "name": "ipython",
    "version": 2
   },
   "file_extension": ".py",
   "mimetype": "text/x-python",
   "name": "python",
   "nbconvert_exporter": "python",
   "pygments_lexer": "ipython2",
   "version": "2.7.12"
  }
 },
 "nbformat": 4,
 "nbformat_minor": 2
}
