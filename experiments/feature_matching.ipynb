{
 "cells": [
  {
   "cell_type": "code",
   "execution_count": 2,
   "metadata": {},
   "outputs": [],
   "source": [
    "import cv2\n",
    "import numpy as np"
   ]
  },
  {
   "cell_type": "code",
   "execution_count": 46,
   "metadata": {},
   "outputs": [],
   "source": [
    "\n",
    "MAX_FEATURES = 500\n",
    "GOOD_MATCH_PERCENT = 0.15\n",
    " \n",
    "def matchAndDisplayFeatures(im1, im2):\n",
    "\n",
    "    # Convert images to grayscale\n",
    "    im1Gray = cv2.cvtColor(im1, cv2.COLOR_BGR2GRAY)\n",
    "    im2Gray = cv2.cvtColor(im2, cv2.COLOR_BGR2GRAY)\n",
    "\n",
    "    # Detect ORB features and compute descriptors.\n",
    "    orb = cv2.ORB_create(MAX_FEATURES)\n",
    "    keypoints1, descriptors1 = orb.detectAndCompute(im1Gray, None)\n",
    "    keypoints2, descriptors2 = orb.detectAndCompute(im2Gray, None)\n",
    "\n",
    "    # Match features.\n",
    "    matcher = cv2.DescriptorMatcher_create(cv2.DESCRIPTOR_MATCHER_BRUTEFORCE_HAMMING)\n",
    "    matches = matcher.match(descriptors1, descriptors2, None)\n",
    "\n",
    "    # Sort matches by score\n",
    "    matches.sort(key=lambda x: x.distance, reverse=False)\n",
    "    min_d = min(matches,key=lambda x: x.distance)\n",
    "    max_d = max(matches,key=lambda x: x.distance)\n",
    "    # Remove not so good matches\n",
    "    numGoodMatches = int(len(matches) * GOOD_MATCH_PERCENT)\n",
    "    matches = matches[:numGoodMatches]\n",
    "\n",
    "    # Draw top matches\n",
    "    imMatches = cv2.drawMatches(im1, keypoints1, im2, keypoints2, matches, None)\n",
    "    cv2.imwrite(\"matches.jpg\", imMatches)\n",
    "\n",
    "    # Extract location of good matches\n",
    "    points1 = np.zeros((len(matches), 2), dtype=np.float32)\n",
    "    points2 = np.zeros((len(matches), 2), dtype=np.float32)\n",
    "    comparison = np.hstack((im1,im2))\n",
    "    for i, match in enumerate(matches):\n",
    "        x1,y1 = keypoints1[match.queryIdx].pt\n",
    "        x2,y2 = keypoints2[match.trainIdx].pt\n",
    "        x1,y1,x2,y2=int(x1),int(y1),int(x2),int(y2)\n",
    "#         intensity = int(255. * (match.distance - min_d.distance) / max_d.distance)\n",
    "        intensity = int(255 * (float(i)/len(matches)))\n",
    "        intensity = 255 - intensity\n",
    "        color = (intensity,0,0) if abs(y1 - y2) < 100 else (0,0,intensity)\n",
    "        cv2.line(comparison, (x1,y1), (x2+im2.shape[1],y2), color, 2)\n",
    "    \n",
    "    \n",
    "\n",
    "    return cv2.resize(comparison, (0,0), fx=0.5, fy=1)"
   ]
  },
  {
   "cell_type": "code",
   "execution_count": 47,
   "metadata": {},
   "outputs": [],
   "source": [
    "cap = cv2.VideoCapture('../lecture.mp4')\n",
    "_, old_frame = cap.read()\n",
    "\n",
    "while 1:\n",
    "    for i in range(24):\n",
    "        if not cap.grab():\n",
    "            break # TODO: only breaks from inner loop...\n",
    "    ret, frame = cap.read()\n",
    "    if not ret:\n",
    "        break\n",
    "        \n",
    "    cv2.imshow('v', matchAndDisplayFeatures(old_frame,frame))\n",
    "    old_frame = frame\n",
    "    k = cv2.waitKey(1000) & 0xff\n",
    "    if k == 27:\n",
    "        break\n",
    "\n",
    "cv2.destroyAllWindows()\n",
    "cap.release()"
   ]
  },
  {
   "cell_type": "code",
   "execution_count": null,
   "metadata": {},
   "outputs": [],
   "source": []
  }
 ],
 "metadata": {
  "kernelspec": {
   "display_name": "Python 2",
   "language": "python",
   "name": "python2"
  },
  "language_info": {
   "codemirror_mode": {
    "name": "ipython",
    "version": 2
   },
   "file_extension": ".py",
   "mimetype": "text/x-python",
   "name": "python",
   "nbconvert_exporter": "python",
   "pygments_lexer": "ipython2",
   "version": "2.7.12"
  }
 },
 "nbformat": 4,
 "nbformat_minor": 2
}
